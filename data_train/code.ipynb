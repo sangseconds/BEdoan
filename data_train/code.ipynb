{
 "cells": [
  {
   "cell_type": "markdown",
   "metadata": {},
   "source": [
    "# DNS"
   ]
  },
  {
   "cell_type": "code",
   "execution_count": 1,
   "metadata": {},
   "outputs": [
    {
     "name": "stdout",
     "output_type": "stream",
     "text": [
      "Quá trình tách file hoàn tất.\n"
     ]
    }
   ],
   "source": [
    "import json\n",
    "\n",
    "# Bước 1: Đọc file dnsmasqlabel.log để lấy danh sách các số chỉ line cần tách\n",
    "def get_anomaly_lines(label_log_path):\n",
    "    anomaly_lines = set()\n",
    "    with open(label_log_path, 'r') as label_file:\n",
    "        for line in label_file:\n",
    "            log_entry = json.loads(line.strip())\n",
    "            anomaly_lines.add(log_entry['line'])\n",
    "    return anomaly_lines\n",
    "\n",
    "# Bước 2: Tách các dòng từ dnsmasq.log dựa trên danh sách anomaly_lines\n",
    "def split_dns_logs(original_log_path, anomaly_log_path, normal_log_path, anomaly_lines):\n",
    "    with open(original_log_path, 'r') as dns_log, \\\n",
    "         open(anomaly_log_path, 'w') as anomaly_log, \\\n",
    "         open(normal_log_path, 'w') as normal_log:\n",
    "        \n",
    "        for i, log_line in enumerate(dns_log, start=1):\n",
    "            if i in anomaly_lines:\n",
    "                anomaly_log.write(log_line)\n",
    "            else:\n",
    "                normal_log.write(log_line)\n",
    "\n",
    "# Đường dẫn tới các file\n",
    "label_log_path = 'dnsmasqlabel.log'\n",
    "original_log_path = 'dnsmasq.log'\n",
    "anomaly_log_path = 'dnsanomaly.log'\n",
    "normal_log_path = 'dnsnormal.log'\n",
    "\n",
    "# Bước 3: Gọi các hàm để thực hiện tách dòng\n",
    "anomaly_lines = get_anomaly_lines(label_log_path)\n",
    "split_dns_logs(original_log_path, anomaly_log_path, normal_log_path, anomaly_lines)\n",
    "\n",
    "print(\"Quá trình tách file hoàn tất.\")\n"
   ]
  },
  {
   "cell_type": "code",
   "execution_count": 2,
   "metadata": {},
   "outputs": [
    {
     "name": "stdout",
     "output_type": "stream",
     "text": [
      "Quá trình tách file hoàn tất.\n"
     ]
    }
   ],
   "source": [
    "import json\n",
    "\n",
    "# Bước 1: Đọc file dnsmasqlabel.log để lấy danh sách các số chỉ line cần tách\n",
    "def get_anomaly_lines(label_log_path):\n",
    "    anomaly_lines = set()\n",
    "    with open(label_log_path, 'r') as label_file:\n",
    "        for line in label_file:\n",
    "            log_entry = json.loads(line.strip())\n",
    "            anomaly_lines.add(log_entry['line'])\n",
    "    return anomaly_lines\n",
    "\n",
    "# Bước 2: Tách các dòng từ dnsmasq.log dựa trên danh sách anomaly_lines\n",
    "def split_dns_logs(original_log_path, anomaly_log_path, normal_log_path, anomaly_lines):\n",
    "    with open(original_log_path, 'r') as dns_log, \\\n",
    "         open(anomaly_log_path, 'w') as anomaly_log, \\\n",
    "         open(normal_log_path, 'w') as normal_log:\n",
    "        \n",
    "        for i, log_line in enumerate(dns_log, start=1):\n",
    "            if i in anomaly_lines:\n",
    "                anomaly_log.write(log_line)\n",
    "            else:\n",
    "                normal_log.write(log_line)\n",
    "\n",
    "# Đường dẫn tới các file\n",
    "label_log_path = 'accesslabel.log'\n",
    "original_log_path = 'access.log'\n",
    "anomaly_log_path = 'accessanomaly.log'\n",
    "normal_log_path = 'accessnormal.log'\n",
    "\n",
    "# Bước 3: Gọi các hàm để thực hiện tách dòng\n",
    "anomaly_lines = get_anomaly_lines(label_log_path)\n",
    "split_dns_logs(original_log_path, anomaly_log_path, normal_log_path, anomaly_lines)\n",
    "\n",
    "print(\"Quá trình tách file hoàn tất.\")\n"
   ]
  },
  {
   "cell_type": "code",
   "execution_count": 2,
   "metadata": {},
   "outputs": [],
   "source": [
    "def remove_carriage_return(file_path):\n",
    "    # Open the file and read its contents\n",
    "    with open(file_path, 'r') as file:\n",
    "        content = file.read()\n",
    "\n",
    "    # Replace all occurrences of '\\r' with an empty string\n",
    "    cleaned_content = content.replace('\\r', '')\n",
    "\n",
    "    # Write the cleaned content back to the file (or a new file if preferred)\n",
    "    with open(file_path, 'w') as file:\n",
    "        file.write(cleaned_content)\n",
    "\n",
    "# Call the function with the path to your log file\n",
    "remove_carriage_return('../file_test/testdns12.log')"
   ]
  },
  {
   "cell_type": "code",
   "execution_count": 5,
   "metadata": {},
   "outputs": [
    {
     "name": "stdout",
     "output_type": "stream",
     "text": [
      "Đang xử lý file: ./auditanomaly.log\n",
      "Đang xử lý file: ./access.log\n",
      "Đang xử lý file: ./dnsmasqlabel.log\n",
      "Đang xử lý file: ./accessanomaly.log\n",
      "Đang xử lý file: ./dnsnormal.log\n",
      "Đang xử lý file: ./accessnormal.log\n",
      "Đang xử lý file: ./auditnormal.log\n",
      "Đang xử lý file: ./dnsanomaly.log\n",
      "Đang xử lý file: ./dnsmasq.log\n"
     ]
    },
    {
     "name": "stdout",
     "output_type": "stream",
     "text": [
      "Đang xử lý file: ./all_train.log\n",
      "Đang xử lý file: ./accesslabel.log\n",
      "Hoàn thành việc loại bỏ '\\r' trong tất cả các file .log.\n"
     ]
    }
   ],
   "source": [
    "import os\n",
    "\n",
    "def remove_carriage_return_in_file(file_path):\n",
    "    \"\"\"Đọc file và loại bỏ tất cả ký tự '\\r'.\"\"\"\n",
    "    with open(file_path, 'r', encoding='utf-8') as file:\n",
    "        content = file.read()\n",
    "    \n",
    "    # Thay thế ký tự '\\r' bằng chuỗi rỗng\n",
    "    cleaned_content = content.replace('\\r', '')\n",
    "    \n",
    "    # Ghi lại nội dung đã làm sạch vào file\n",
    "    with open(file_path, 'w', encoding='utf-8') as file:\n",
    "        file.write(cleaned_content)\n",
    "\n",
    "def remove_carriage_return_in_log_files(folder_path):\n",
    "    \"\"\"Duyệt qua tất cả các file .log trong thư mục và loại bỏ '\\r'.\"\"\"\n",
    "    for root, dirs, files in os.walk(folder_path):\n",
    "        for file_name in files:\n",
    "            if file_name.endswith('.log'):  # Chỉ xử lý file có đuôi .log\n",
    "                file_path = os.path.join(root, file_name)\n",
    "                print(f\"Đang xử lý file: {file_path}\")\n",
    "                remove_carriage_return_in_file(file_path)\n",
    "    print(\"Hoàn thành việc loại bỏ '\\\\r' trong tất cả các file .log.\")\n",
    "\n",
    "# Đường dẫn đến thư mục chứa các file cần xử lý\n",
    "folder_path = './'  # Thay đường dẫn folder của bạn ở đây\n",
    "\n",
    "# Gọi hàm xử lý\n",
    "remove_carriage_return_in_log_files(folder_path)"
   ]
  }
 ],
 "metadata": {
  "kernelspec": {
   "display_name": "base",
   "language": "python",
   "name": "python3"
  },
  "language_info": {
   "codemirror_mode": {
    "name": "ipython",
    "version": 3
   },
   "file_extension": ".py",
   "mimetype": "text/x-python",
   "name": "python",
   "nbconvert_exporter": "python",
   "pygments_lexer": "ipython3",
   "version": "3.10.12"
  }
 },
 "nbformat": 4,
 "nbformat_minor": 2
}
